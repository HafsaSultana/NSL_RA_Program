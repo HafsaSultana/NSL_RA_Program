{
 "cells": [
  {
   "cell_type": "markdown",
   "metadata": {},
   "source": [
    "# Index\n",
    "- File I/O\n",
    "- OS Module"
   ]
  },
  {
   "cell_type": "markdown",
   "metadata": {},
   "source": [
    "# File  manipulation"
   ]
  },
  {
   "cell_type": "code",
   "execution_count": 9,
   "metadata": {},
   "outputs": [],
   "source": [
    "# make a file \n",
    "my_file = open('paragraph.txt', 'w')\n",
    "my_file.write('This is python file')\n",
    "my_file.close()"
   ]
  },
  {
   "cell_type": "code",
   "execution_count": 12,
   "metadata": {},
   "outputs": [
    {
     "name": "stdout",
     "output_type": "stream",
     "text": [
      "type: <class 'list'>\n",
      "['This is python file']\n"
     ]
    }
   ],
   "source": [
    "# open a file\n",
    "my_file = open('paragraph.txt', 'r')\n",
    "lines = my_file.readlines()\n",
    "print('type:', type(lines))\n",
    "print(lines)\n",
    "my_file.close()"
   ]
  },
  {
   "cell_type": "code",
   "execution_count": 19,
   "metadata": {},
   "outputs": [
    {
     "name": "stdout",
     "output_type": "stream",
     "text": [
      "text from file:\n",
      "CSE\n",
      "\n",
      "ETE\n",
      "\n",
      "EEE\n",
      "\n",
      "ME\n",
      "\n",
      "CE\n",
      "\n",
      "exlude new line:\n",
      "CSE\n",
      "ETE\n",
      "EEE\n",
      "ME\n",
      "CE\n"
     ]
    }
   ],
   "source": [
    "# best practics for file IO\n",
    "subjects = ['CSE', 'ETE', 'EEE', 'ME', 'CE']\n",
    "with open('subject.txt', 'w') as f:\n",
    "    for subject in subjects:\n",
    "        f.write(subject + '\\n')\n",
    "\n",
    "print('text from file:')\n",
    "with open('subject.txt', 'r') as f:\n",
    "    for line in f:\n",
    "        print(line)\n",
    "\n",
    "# exclude new line\n",
    "print('exlude new line:')\n",
    "with open('subject.txt', 'r') as f:\n",
    "    for line in f:\n",
    "        print(line.strip('\\n'))"
   ]
  },
  {
   "cell_type": "code",
   "execution_count": 20,
   "metadata": {},
   "outputs": [
    {
     "name": "stdout",
     "output_type": "stream",
     "text": [
      "read 1'st time\n",
      "CSE\n",
      "ETE\n",
      "EEE\n",
      "ME\n",
      "CE\n",
      "read 2'st time\n"
     ]
    }
   ],
   "source": [
    "with open('subject.txt', 'r') as f:\n",
    "    print('read 1\\'st time')\n",
    "    for line in f:\n",
    "        print(line.strip('\\n'))\n",
    "    \n",
    "    print('read 2\\'st time')\n",
    "    for line in f:\n",
    "        print(line.strip('\\n'))"
   ]
  },
  {
   "cell_type": "code",
   "execution_count": 22,
   "metadata": {},
   "outputs": [
    {
     "name": "stdout",
     "output_type": "stream",
     "text": [
      "<class '_io.TextIOWrapper'>\n"
     ]
    }
   ],
   "source": [
    "with open('subject.txt', 'r') as f:\n",
    "    print(type(f))"
   ]
  },
  {
   "cell_type": "markdown",
   "metadata": {},
   "source": [
    "# Python Standered Modules "
   ]
  },
  {
   "cell_type": "markdown",
   "metadata": {},
   "source": [
    "## os"
   ]
  },
  {
   "cell_type": "code",
   "execution_count": 24,
   "metadata": {},
   "outputs": [
    {
     "name": "stdout",
     "output_type": "stream",
     "text": [
      "/home/menon/development/path-to-sl/python3_intro\n"
     ]
    }
   ],
   "source": [
    "import os\n",
    "\n",
    "current_working_dir = os.getcwd()\n",
    "print(current_working_dir)"
   ]
  },
  {
   "cell_type": "code",
   "execution_count": 25,
   "metadata": {},
   "outputs": [
    {
     "data": {
      "text/plain": [
       "['paragraph.txt',\n",
       " 'subject.txt',\n",
       " 'python3_intro_part_3.ipynb',\n",
       " 'python3_into_part_2.ipynb',\n",
       " '.ipynb_checkpoints',\n",
       " 'python3_intro_part_1.ipynb',\n",
       " 'Python3_intro_part_4.ipynb']"
      ]
     },
     "execution_count": 25,
     "metadata": {},
     "output_type": "execute_result"
    }
   ],
   "source": [
    "os.listdir(current_working_dir)"
   ]
  },
  {
   "cell_type": "code",
   "execution_count": 31,
   "metadata": {},
   "outputs": [
    {
     "name": "stdout",
     "output_type": "stream",
     "text": [
      "train  -created.\n",
      "test  -created.\n"
     ]
    }
   ],
   "source": [
    "# make some folder using os\n",
    "folders = ['train', 'test']\n",
    "for folder in folders:\n",
    "    os.makedirs(folder)\n",
    "    print(folder, ' -created.')\n"
   ]
  },
  {
   "cell_type": "code",
   "execution_count": 32,
   "metadata": {},
   "outputs": [
    {
     "ename": "FileExistsError",
     "evalue": "[Errno 17] File exists: 'train'",
     "output_type": "error",
     "traceback": [
      "\u001b[0;31m---------------------------------------------------------------------------\u001b[0m",
      "\u001b[0;31mFileExistsError\u001b[0m                           Traceback (most recent call last)",
      "\u001b[0;32m<ipython-input-32-de16421e01f5>\u001b[0m in \u001b[0;36m<module>\u001b[0;34m\u001b[0m\n\u001b[1;32m      3\u001b[0m \u001b[0mfolders\u001b[0m \u001b[0;34m=\u001b[0m \u001b[0;34m[\u001b[0m\u001b[0;34m'train'\u001b[0m\u001b[0;34m,\u001b[0m \u001b[0;34m'test'\u001b[0m\u001b[0;34m]\u001b[0m\u001b[0;34m\u001b[0m\u001b[0;34m\u001b[0m\u001b[0m\n\u001b[1;32m      4\u001b[0m \u001b[0;32mfor\u001b[0m \u001b[0mfolder\u001b[0m \u001b[0;32min\u001b[0m \u001b[0mfolders\u001b[0m\u001b[0;34m:\u001b[0m\u001b[0;34m\u001b[0m\u001b[0;34m\u001b[0m\u001b[0m\n\u001b[0;32m----> 5\u001b[0;31m     \u001b[0mos\u001b[0m\u001b[0;34m.\u001b[0m\u001b[0mmakedirs\u001b[0m\u001b[0;34m(\u001b[0m\u001b[0mfolder\u001b[0m\u001b[0;34m)\u001b[0m\u001b[0;34m\u001b[0m\u001b[0;34m\u001b[0m\u001b[0m\n\u001b[0m\u001b[1;32m      6\u001b[0m     \u001b[0mprint\u001b[0m\u001b[0;34m(\u001b[0m\u001b[0mfolder\u001b[0m\u001b[0;34m,\u001b[0m \u001b[0;34m' -created.'\u001b[0m\u001b[0;34m)\u001b[0m\u001b[0;34m\u001b[0m\u001b[0;34m\u001b[0m\u001b[0m\n",
      "\u001b[0;32m~/anaconda3/lib/python3.7/os.py\u001b[0m in \u001b[0;36mmakedirs\u001b[0;34m(name, mode, exist_ok)\u001b[0m\n\u001b[1;32m    219\u001b[0m             \u001b[0;32mreturn\u001b[0m\u001b[0;34m\u001b[0m\u001b[0;34m\u001b[0m\u001b[0m\n\u001b[1;32m    220\u001b[0m     \u001b[0;32mtry\u001b[0m\u001b[0;34m:\u001b[0m\u001b[0;34m\u001b[0m\u001b[0;34m\u001b[0m\u001b[0m\n\u001b[0;32m--> 221\u001b[0;31m         \u001b[0mmkdir\u001b[0m\u001b[0;34m(\u001b[0m\u001b[0mname\u001b[0m\u001b[0;34m,\u001b[0m \u001b[0mmode\u001b[0m\u001b[0;34m)\u001b[0m\u001b[0;34m\u001b[0m\u001b[0;34m\u001b[0m\u001b[0m\n\u001b[0m\u001b[1;32m    222\u001b[0m     \u001b[0;32mexcept\u001b[0m \u001b[0mOSError\u001b[0m\u001b[0;34m:\u001b[0m\u001b[0;34m\u001b[0m\u001b[0;34m\u001b[0m\u001b[0m\n\u001b[1;32m    223\u001b[0m         \u001b[0;31m# Cannot rely on checking for EEXIST, since the operating system\u001b[0m\u001b[0;34m\u001b[0m\u001b[0;34m\u001b[0m\u001b[0;34m\u001b[0m\u001b[0m\n",
      "\u001b[0;31mFileExistsError\u001b[0m: [Errno 17] File exists: 'train'"
     ]
    }
   ],
   "source": [
    "# make some folder using os\n",
    "# if file already exists then what happend ? \n",
    "folders = ['train', 'test']\n",
    "for folder in folders:\n",
    "    os.makedirs(folder)\n",
    "    print(folder, ' -created.')"
   ]
  },
  {
   "cell_type": "code",
   "execution_count": 33,
   "metadata": {},
   "outputs": [
    {
     "name": "stdout",
     "output_type": "stream",
     "text": [
      "train  -already exists.\n",
      "test  -already exists.\n"
     ]
    }
   ],
   "source": [
    "# solution\n",
    "folders = ['train', 'test']\n",
    "for folder in folders:\n",
    "    if not os.path.exists(folder):\n",
    "        os.makedirs(folder)\n",
    "        print(folder, ' -created.')\n",
    "    else:\n",
    "        print(folder, ' -already exists.')"
   ]
  },
  {
   "cell_type": "code",
   "execution_count": 37,
   "metadata": {},
   "outputs": [
    {
     "name": "stdout",
     "output_type": "stream",
     "text": [
      "cat\n",
      "  train/cat\n",
      "dog\n",
      "  train/dog\n"
     ]
    }
   ],
   "source": [
    "class_names = ['cat', 'dog']\n",
    "\n",
    "for _class in class_names:\n",
    "    train_path = os.path.join('train', _class)\n",
    "    print(_class)\n",
    "    print(' ', train_path)\n",
    "    if not os.path.exists(train_path):\n",
    "        os.makedirs(train_path)\n",
    "        print('  creation [ Done ]')\n"
   ]
  },
  {
   "cell_type": "code",
   "execution_count": 38,
   "metadata": {},
   "outputs": [
    {
     "name": "stdout",
     "output_type": "stream",
     "text": [
      "/home/menon/development/path-to-sl/python3_intro/train/cat\n"
     ]
    }
   ],
   "source": [
    "train_cat_absulote_path = os.path.join(os.getcwd(), 'train/cat')\n",
    "print(train_cat_absulote_path)"
   ]
  },
  {
   "cell_type": "code",
   "execution_count": 42,
   "metadata": {},
   "outputs": [
    {
     "data": {
      "text/plain": [
       "4096"
      ]
     },
     "execution_count": 42,
     "metadata": {},
     "output_type": "execute_result"
    }
   ],
   "source": [
    "# get size of the folder\n",
    "os.path.getsize(train_cat_absulote_path)"
   ]
  },
  {
   "cell_type": "code",
   "execution_count": 41,
   "metadata": {},
   "outputs": [
    {
     "name": "stdout",
     "output_type": "stream",
     "text": [
      "4.0K\t/home/menon/development/path-to-sl/python3_intro/train/cat\r\n"
     ]
    }
   ],
   "source": [
    "# using shell command\n",
    "!du -sh /home/menon/development/path-to-sl/python3_intro/train/cat"
   ]
  },
  {
   "cell_type": "code",
   "execution_count": 2,
   "metadata": {},
   "outputs": [
    {
     "name": "stdout",
     "output_type": "stream",
     "text": [
      "/home/menon/development/path-to-sl/Deep-Learning-Guide/Python3\n",
      "0\n"
     ]
    }
   ],
   "source": [
    "import os\n",
    "!pwd\n",
    "# run system command using os \n",
    "sys_command = 'pwd'\n",
    "print(os.system(\"ls\"))"
   ]
  },
  {
   "cell_type": "code",
   "execution_count": 1,
   "metadata": {},
   "outputs": [
    {
     "name": "stdout",
     "output_type": "stream",
     "text": [
      "total 96\r\n",
      "-rw-rw-r-- 1 menon menon 23054 Jul 12 14:00 python3_intro_part_3.ipynb\r\n",
      "-rw-rw-r-- 1 menon menon  5830 Jul 12 14:00 python3_intro_part_2.ipynb\r\n",
      "-rw-rw-r-- 1 menon menon 23877 Jul 12 14:00 python3_intro_part_1.ipynb\r\n",
      "-rw-rw-r-- 1 menon menon 20392 Jul 12 18:20 python3_intro_part_5_[OOP].ipynb\r\n",
      "-rw-rw-r-- 1 menon menon  1034 Jul 12 22:57 Readme.md\r\n",
      "drwxrwxr-x 4 menon menon  4096 Jul 14 21:06 test_os_walk\r\n",
      "-rw-rw-r-- 1 menon menon 11191 Jul 14 21:08 python3_intro_part_4.ipynb\r\n"
     ]
    }
   ],
   "source": [
    "!ls -ltr"
   ]
  },
  {
   "cell_type": "code",
   "execution_count": 24,
   "metadata": {},
   "outputs": [
    {
     "name": "stdout",
     "output_type": "stream",
     "text": [
      " root  : test_os_walk\n",
      " folder: ['1', '2']\n",
      " file  : ['flie1.txt']\n",
      "\t root  : test_os_walk/1\n",
      "\t folder: ['folder1']\n",
      "\t file  : ['file2']\n",
      "\t\t root  : test_os_walk/1/folder1\n",
      "\t\t folder: []\n",
      "\t\t file  : ['file3', 'file4']\n",
      "\t root  : test_os_walk/2\n",
      "\t folder: []\n",
      "\t file  : ['file7', 'file8', 'file6']\n"
     ]
    }
   ],
   "source": [
    "root = 'test_os_walk'\n",
    "i = 0\n",
    "for r, d, f in os.walk(root):\n",
    "    spacing = len(r.split('/')) - 1\n",
    "    print('\\t' * spacing, 'root  :', r)\n",
    "    print('\\t' * spacing, 'folder:', d)\n",
    "    print('\\t' * spacing, 'file  :', f)\n",
    "    i += 1"
   ]
  },
  {
   "cell_type": "code",
   "execution_count": 26,
   "metadata": {},
   "outputs": [],
   "source": [
    "# os.remove(path_to_remove)\n",
    "# os.rename(old_name, new_name)"
   ]
  },
  {
   "cell_type": "markdown",
   "metadata": {},
   "source": [
    "## glob\n",
    "  - Todo "
   ]
  },
  {
   "cell_type": "markdown",
   "metadata": {},
   "source": [
    "## shutil"
   ]
  },
  {
   "cell_type": "code",
   "execution_count": null,
   "metadata": {},
   "outputs": [],
   "source": [
    "import shutil\n",
    "\n",
    "# shutil.rmtree(path/to/dir)\n",
    "# shutil.copy(src, des)\n",
    "# shutil.move(src, des)"
   ]
  },
  {
   "cell_type": "markdown",
   "metadata": {},
   "source": [
    "# Try Catch Block"
   ]
  },
  {
   "cell_type": "code",
   "execution_count": 3,
   "metadata": {},
   "outputs": [
    {
     "name": "stdout",
     "output_type": "stream",
     "text": [
      "0 / 1 = 0.0\n",
      "1 / 4 = 0.25\n",
      "2 / 5 = 0.4\n"
     ]
    },
    {
     "ename": "ZeroDivisionError",
     "evalue": "division by zero",
     "output_type": "error",
     "traceback": [
      "\u001b[0;31m---------------------------------------------------------------------------\u001b[0m",
      "\u001b[0;31mZeroDivisionError\u001b[0m                         Traceback (most recent call last)",
      "\u001b[0;32m<ipython-input-3-67f4d0921033>\u001b[0m in \u001b[0;36m<module>\u001b[0;34m\u001b[0m\n\u001b[1;32m      4\u001b[0m     \u001b[0;32mfor\u001b[0m \u001b[0mi\u001b[0m \u001b[0;32min\u001b[0m \u001b[0mrange\u001b[0m\u001b[0;34m(\u001b[0m\u001b[0mn\u001b[0m\u001b[0;34m)\u001b[0m\u001b[0;34m:\u001b[0m\u001b[0;34m\u001b[0m\u001b[0;34m\u001b[0m\u001b[0m\n\u001b[1;32m      5\u001b[0m         \u001b[0mprint\u001b[0m\u001b[0;34m(\u001b[0m\u001b[0;34m'{} / {} = {}'\u001b[0m\u001b[0;34m.\u001b[0m\u001b[0mformat\u001b[0m\u001b[0;34m(\u001b[0m\u001b[0mi\u001b[0m\u001b[0;34m,\u001b[0m \u001b[0mdata\u001b[0m\u001b[0;34m[\u001b[0m\u001b[0mi\u001b[0m\u001b[0;34m]\u001b[0m\u001b[0;34m,\u001b[0m \u001b[0mi\u001b[0m \u001b[0;34m/\u001b[0m \u001b[0mdata\u001b[0m\u001b[0;34m[\u001b[0m\u001b[0mi\u001b[0m\u001b[0;34m]\u001b[0m\u001b[0;34m)\u001b[0m\u001b[0;34m)\u001b[0m\u001b[0;34m\u001b[0m\u001b[0;34m\u001b[0m\u001b[0m\n\u001b[0;32m----> 6\u001b[0;31m \u001b[0mcalculate\u001b[0m\u001b[0;34m(\u001b[0m\u001b[0;34m)\u001b[0m\u001b[0;34m\u001b[0m\u001b[0;34m\u001b[0m\u001b[0m\n\u001b[0m",
      "\u001b[0;32m<ipython-input-3-67f4d0921033>\u001b[0m in \u001b[0;36mcalculate\u001b[0;34m()\u001b[0m\n\u001b[1;32m      3\u001b[0m     \u001b[0mn\u001b[0m \u001b[0;34m=\u001b[0m \u001b[0mlen\u001b[0m\u001b[0;34m(\u001b[0m\u001b[0mdata\u001b[0m\u001b[0;34m)\u001b[0m\u001b[0;34m\u001b[0m\u001b[0;34m\u001b[0m\u001b[0m\n\u001b[1;32m      4\u001b[0m     \u001b[0;32mfor\u001b[0m \u001b[0mi\u001b[0m \u001b[0;32min\u001b[0m \u001b[0mrange\u001b[0m\u001b[0;34m(\u001b[0m\u001b[0mn\u001b[0m\u001b[0;34m)\u001b[0m\u001b[0;34m:\u001b[0m\u001b[0;34m\u001b[0m\u001b[0;34m\u001b[0m\u001b[0m\n\u001b[0;32m----> 5\u001b[0;31m         \u001b[0mprint\u001b[0m\u001b[0;34m(\u001b[0m\u001b[0;34m'{} / {} = {}'\u001b[0m\u001b[0;34m.\u001b[0m\u001b[0mformat\u001b[0m\u001b[0;34m(\u001b[0m\u001b[0mi\u001b[0m\u001b[0;34m,\u001b[0m \u001b[0mdata\u001b[0m\u001b[0;34m[\u001b[0m\u001b[0mi\u001b[0m\u001b[0;34m]\u001b[0m\u001b[0;34m,\u001b[0m \u001b[0mi\u001b[0m \u001b[0;34m/\u001b[0m \u001b[0mdata\u001b[0m\u001b[0;34m[\u001b[0m\u001b[0mi\u001b[0m\u001b[0;34m]\u001b[0m\u001b[0;34m)\u001b[0m\u001b[0;34m)\u001b[0m\u001b[0;34m\u001b[0m\u001b[0;34m\u001b[0m\u001b[0m\n\u001b[0m\u001b[1;32m      6\u001b[0m \u001b[0mcalculate\u001b[0m\u001b[0;34m(\u001b[0m\u001b[0;34m)\u001b[0m\u001b[0;34m\u001b[0m\u001b[0;34m\u001b[0m\u001b[0m\n",
      "\u001b[0;31mZeroDivisionError\u001b[0m: division by zero"
     ]
    }
   ],
   "source": [
    "def calculate():\n",
    "    data = [1, 4, 5, 0, 10, 500]\n",
    "    n = len(data)\n",
    "    for i in range(n):\n",
    "        print('{} / {} = {}'.format(i, data[i], i / data[i]))\n",
    "calculate()"
   ]
  },
  {
   "cell_type": "code",
   "execution_count": 4,
   "metadata": {},
   "outputs": [
    {
     "name": "stdout",
     "output_type": "stream",
     "text": [
      "0 / 1 = 0.0\n",
      "1 / 4 = 0.25\n",
      "2 / 5 = 0.4\n",
      "Exception is: division by zero\n",
      "4 / 10 = 0.4\n",
      "5 / 500 = 0.01\n"
     ]
    }
   ],
   "source": [
    "def calculate():\n",
    "    data = [1, 4, 5, 0, 10, 500]\n",
    "    n = len(data)\n",
    "    for i in range(n):\n",
    "        try:\n",
    "            print('{} / {} = {}'.format(i, data[i], i / data[i]))\n",
    "        except Exception as e:\n",
    "            print('Exception is:', e)\n",
    "calculate()"
   ]
  },
  {
   "cell_type": "markdown",
   "metadata": {},
   "source": [
    "### Exceptions in Python\n",
    " -https://docs.python.org/3/library/exceptions.html#concrete-exceptions"
   ]
  },
  {
   "cell_type": "code",
   "execution_count": null,
   "metadata": {},
   "outputs": [],
   "source": []
  }
 ],
 "metadata": {
  "kernelspec": {
   "display_name": "Python 3",
   "language": "python",
   "name": "python3"
  },
  "language_info": {
   "codemirror_mode": {
    "name": "ipython",
    "version": 3
   },
   "file_extension": ".py",
   "mimetype": "text/x-python",
   "name": "python",
   "nbconvert_exporter": "python",
   "pygments_lexer": "ipython3",
   "version": "3.7.1"
  }
 },
 "nbformat": 4,
 "nbformat_minor": 2
}
